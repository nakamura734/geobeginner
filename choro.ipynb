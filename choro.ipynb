{
 "cells": [
  {
   "cell_type": "code",
   "execution_count": null,
   "id": "5e24cb9f-b838-4562-a14e-b2dab0df6129",
   "metadata": {},
   "outputs": [],
   "source": [
    "#  UserWarningを省略したい場合はこのコードを実行すること\n",
    "import warnings\n",
    "warnings.filterwarnings(\"ignore\", category=UserWarning)"
   ]
  },
  {
   "cell_type": "code",
   "execution_count": null,
   "id": "cbbc3b45-0950-446d-be83-3fbf39f50892",
   "metadata": {},
   "outputs": [],
   "source": [
    "%%time\n",
    "import pandas as pd\n",
    "import geopandas as gpd\n",
    "import os\n",
    "import gc\n",
    "import matplotlib.pyplot as plt\n",
    "from matplotlib.colors import to_hex\n",
    "from plotnine import *\n",
    "plt.rcParams['font.family'] = \"Noto Sans CJK JP\"\n",
    "\n",
    "kihon_list = [file for file in os.listdir(\"/workspace/polygon/\") if file.endswith(\".shp\")]\n",
    "for i in kihon_list:\n",
    "    d = \"/workspace/polygon/\" + i\n",
    "    polygon = gpd.read_file(d)\n",
    "    polygon = polygon.to_crs(epsg=3857)\n",
    "    polygon['PD'] = polygon['JINKO'] / (polygon['AREA'] / 1000000)\n",
    "    t =  polygon['PREF'].iloc[1] + polygon['CITY'].iloc[1]+polygon['PREF_NAME'].iloc[1] + polygon['CITY_NAME'].iloc[1]\n",
    "    title = polygon['PREF_NAME'].iloc[1] + polygon['CITY_NAME'].iloc[1]\n",
    "    try:\n",
    "        polygon['legend'] = pd.qcut(polygon['PD'],5)\n",
    "    except ValueError as e:\n",
    "        error_path = \"/workspace/result/choro/\" + t + \".txt\"\n",
    "        with open(error_path, 'w') as f:\n",
    "            f.write('creating choro is failed:\\n')\n",
    "            f.write(f'ValueError:{str(e)}')\n",
    "    else:\n",
    "        cmap = plt.get_cmap('jet', 5)\n",
    "        cmap_colors = [to_hex(cmap(i / 5)) for i in range(5)]\n",
    "        \n",
    "        choro = (ggplot() +\n",
    "                theme(text=element_text(family='Noto Sans CJK JP'),\n",
    "                      panel_background=element_rect(fill='white'),\n",
    "                      plot_background=element_rect(fill='white'),\n",
    "                      panel_grid_major=element_blank(),\n",
    "                      panel_grid_minor=element_blank(),\n",
    "                      axis_title=element_blank(),\n",
    "                      axis_text=element_blank(),\n",
    "                      axis_ticks=element_blank()) +\n",
    "                geom_map(data=polygon, mapping=aes(fill='legend'), color= None) +\n",
    "                scale_fill_manual(values=cmap_colors) +\n",
    "                labs(fill='人口密度', title=title) + \n",
    "                coord_equal())\n",
    "        file_path = \"/workspace/result/choro/\" + t + \".png\"\n",
    "        choro.save(file_path)\n",
    "        del choro\n",
    "        gc.collect()"
   ]
  }
 ],
 "metadata": {
  "kernelspec": {
   "display_name": "Python 3 (ipykernel)",
   "language": "python",
   "name": "python3"
  },
  "language_info": {
   "codemirror_mode": {
    "name": "ipython",
    "version": 3
   },
   "file_extension": ".py",
   "mimetype": "text/x-python",
   "name": "python",
   "nbconvert_exporter": "python",
   "pygments_lexer": "ipython3",
   "version": "3.12.8"
  }
 },
 "nbformat": 4,
 "nbformat_minor": 5
}
